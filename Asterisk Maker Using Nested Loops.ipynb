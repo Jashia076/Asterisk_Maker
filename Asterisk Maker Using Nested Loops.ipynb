{
 "cells": [
  {
   "cell_type": "markdown",
   "id": "3a5d8f50",
   "metadata": {},
   "source": [
    "## Asks user the number of rows and uses asterisks which is equal to the row number."
   ]
  },
  {
   "cell_type": "code",
   "execution_count": 8,
   "id": "11391eb9",
   "metadata": {},
   "outputs": [
    {
     "name": "stdout",
     "output_type": "stream",
     "text": [
      "Enter the number of rows of asterisk tree you want: 4\n",
      "* \n",
      "* * \n",
      "* * * \n",
      "* * * * \n"
     ]
    }
   ],
   "source": [
    "num = int(input(\"Enter the number of rows of asterisk tree you want: \")) #taking user inputs\n",
    "\n",
    "\n",
    "#Using Nested Loops\n",
    "\n",
    "for i in range(1, num + 1):\n",
    "    for j in range(0,i):\n",
    "        print(\"*\", end = \" \")\n",
    "    print(\"\")\n",
    "    "
   ]
  },
  {
   "cell_type": "code",
   "execution_count": null,
   "id": "4277dc15",
   "metadata": {},
   "outputs": [],
   "source": []
  }
 ],
 "metadata": {
  "kernelspec": {
   "display_name": "Python 3 (ipykernel)",
   "language": "python",
   "name": "python3"
  },
  "language_info": {
   "codemirror_mode": {
    "name": "ipython",
    "version": 3
   },
   "file_extension": ".py",
   "mimetype": "text/x-python",
   "name": "python",
   "nbconvert_exporter": "python",
   "pygments_lexer": "ipython3",
   "version": "3.11.3"
  }
 },
 "nbformat": 4,
 "nbformat_minor": 5
}
